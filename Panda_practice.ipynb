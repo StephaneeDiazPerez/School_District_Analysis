{
 "cells": [
  {
   "cell_type": "code",
   "execution_count": 35,
   "id": "525bf5f3",
   "metadata": {},
   "outputs": [],
   "source": [
    "# List of High schools\n",
    "high_schools = [\"Hernandez High School\", \"Figueroa High School\", \"Wilson High School\", \"Wright High School\"]"
   ]
  },
  {
   "cell_type": "code",
   "execution_count": 36,
   "id": "11467fda",
   "metadata": {},
   "outputs": [
    {
     "name": "stdout",
     "output_type": "stream",
     "text": [
      "Hernandez High School\n",
      "Figueroa High School\n",
      "Wilson High School\n",
      "Wright High School\n"
     ]
    }
   ],
   "source": [
    "for school in high_schools:\n",
    "    print(school)"
   ]
  },
  {
   "cell_type": "code",
   "execution_count": 37,
   "id": "37f5f67d",
   "metadata": {},
   "outputs": [],
   "source": [
    "# A dictionary of high schools and the type of school.\n",
    "high_school_types = [{\"High school\": \"Griffin\", \"Type\":\"District\"}, {\"High School\": \"Figueroa\", \"Type\": \"District\"}, {\"High School\": \"Wilson\", \"Type\": \"Charter\"}, {\"High School\": \"Wright\", \"Type\": \"Charter\"}]"
   ]
  },
  {
   "cell_type": "code",
   "execution_count": 38,
   "id": "8e031c70",
   "metadata": {
    "scrolled": false
   },
   "outputs": [
    {
     "data": {
      "text/plain": [
       "{'High School': 'Wright', 'Type': 'Charter'}"
      ]
     },
     "execution_count": 38,
     "metadata": {},
     "output_type": "execute_result"
    }
   ],
   "source": [
    "{'High School': 'Griffin', 'Type': 'District'}\n",
    "{'High School': 'Figueroa', 'Type': 'District'}\n",
    "{'High School': 'Wilson', 'Type': 'Charter'}\n",
    "{'High School': 'Wright', 'Type':'Charter'}"
   ]
  },
  {
   "cell_type": "code",
   "execution_count": 39,
   "id": "a374ad9f",
   "metadata": {},
   "outputs": [],
   "source": [
    "# List of high school\n",
    "high_schools = [\"Huang High School\", \"Figueroa High School\", \"Shelton High School\", \"Hernandez High School\",\"Griffin High School\",\"Wilson High School\", \"Cabrera High School\", \"Bailey High School\", \"Holden High School\", \"Pena High School\", \"Wright High School\", \"Rodriguez High School\", \"Johnson High School\", \"Ford High School\", \"Thomas High School\"]"
   ]
  },
  {
   "cell_type": "code",
   "execution_count": 40,
   "id": "c0d78030",
   "metadata": {},
   "outputs": [],
   "source": [
    "# Add the Pandas dependency.\n",
    "import pandas as pd"
   ]
  },
  {
   "cell_type": "code",
   "execution_count": 41,
   "id": "9f339870",
   "metadata": {},
   "outputs": [],
   "source": [
    "# Create a Pandas Series from a list.\n",
    "school_series = pd.Series(high_schools)"
   ]
  },
  {
   "cell_type": "code",
   "execution_count": 42,
   "id": "ab76c81a",
   "metadata": {},
   "outputs": [
    {
     "data": {
      "text/plain": [
       "0         Huang High School\n",
       "1      Figueroa High School\n",
       "2       Shelton High School\n",
       "3     Hernandez High School\n",
       "4       Griffin High School\n",
       "5        Wilson High School\n",
       "6       Cabrera High School\n",
       "7        Bailey High School\n",
       "8        Holden High School\n",
       "9          Pena High School\n",
       "10       Wright High School\n",
       "11    Rodriguez High School\n",
       "12      Johnson High School\n",
       "13         Ford High School\n",
       "14       Thomas High School\n",
       "dtype: object"
      ]
     },
     "execution_count": 42,
     "metadata": {},
     "output_type": "execute_result"
    }
   ],
   "source": [
    "# Create a Pandas Series from a list.\n",
    "school_series = pd.Series(high_schools)\n",
    "school_series"
   ]
  },
  {
   "cell_type": "code",
   "execution_count": 43,
   "id": "0b752be3",
   "metadata": {},
   "outputs": [],
   "source": [
    "# A dictionary of high schools\n",
    "high_school_dicts = [{\"School ID\": 0, \"school_name\": \"Huang High School\", \"type\": \"District\"},\n",
    "                   {\"School ID\": 1, \"school_name\": \"Figueroa High School\", \"type\": \"District\"},\n",
    "                    {\"School ID\": 2, \"school_name\": \"Shelton High School\", \"type\": \"Charter\"},\n",
    "                    {\"School ID\": 3, \"school_name\": \"Hernandez High School\", \"type\": \"District\"},\n",
    "                    {\"School ID\": 4, \"school_name\": \"Griffin High School\", \"type\": \"Charter\"}]"
   ]
  },
  {
   "cell_type": "code",
   "execution_count": 44,
   "id": "91fcdbe4",
   "metadata": {},
   "outputs": [
    {
     "data": {
      "text/html": [
       "<div>\n",
       "<style scoped>\n",
       "    .dataframe tbody tr th:only-of-type {\n",
       "        vertical-align: middle;\n",
       "    }\n",
       "\n",
       "    .dataframe tbody tr th {\n",
       "        vertical-align: top;\n",
       "    }\n",
       "\n",
       "    .dataframe thead th {\n",
       "        text-align: right;\n",
       "    }\n",
       "</style>\n",
       "<table border=\"1\" class=\"dataframe\">\n",
       "  <thead>\n",
       "    <tr style=\"text-align: right;\">\n",
       "      <th></th>\n",
       "      <th>School ID</th>\n",
       "      <th>school_name</th>\n",
       "      <th>type</th>\n",
       "    </tr>\n",
       "  </thead>\n",
       "  <tbody>\n",
       "    <tr>\n",
       "      <th>0</th>\n",
       "      <td>0</td>\n",
       "      <td>Huang High School</td>\n",
       "      <td>District</td>\n",
       "    </tr>\n",
       "    <tr>\n",
       "      <th>1</th>\n",
       "      <td>1</td>\n",
       "      <td>Figueroa High School</td>\n",
       "      <td>District</td>\n",
       "    </tr>\n",
       "    <tr>\n",
       "      <th>2</th>\n",
       "      <td>2</td>\n",
       "      <td>Shelton High School</td>\n",
       "      <td>Charter</td>\n",
       "    </tr>\n",
       "    <tr>\n",
       "      <th>3</th>\n",
       "      <td>3</td>\n",
       "      <td>Hernandez High School</td>\n",
       "      <td>District</td>\n",
       "    </tr>\n",
       "    <tr>\n",
       "      <th>4</th>\n",
       "      <td>4</td>\n",
       "      <td>Griffin High School</td>\n",
       "      <td>Charter</td>\n",
       "    </tr>\n",
       "  </tbody>\n",
       "</table>\n",
       "</div>"
      ],
      "text/plain": [
       "   School ID            school_name      type\n",
       "0          0      Huang High School  District\n",
       "1          1   Figueroa High School  District\n",
       "2          2    Shelton High School   Charter\n",
       "3          3  Hernandez High School  District\n",
       "4          4    Griffin High School   Charter"
      ]
     },
     "execution_count": 44,
     "metadata": {},
     "output_type": "execute_result"
    }
   ],
   "source": [
    "school_df = pd.DataFrame(high_school_dicts)\n",
    "school_df"
   ]
  },
  {
   "cell_type": "code",
   "execution_count": 51,
   "id": "8d0b03d1",
   "metadata": {},
   "outputs": [],
   "source": [
    "# Three separate lists of information on high schools \n",
    "schools_id = [0, 1, 2, 3, 4]\n",
    "\n",
    "School_name = [\"Huang High School\", \"Figueroa High School\", \"Shelton High School\", \"Hernandez High School\", \"Griffin High School\"]\n",
    "\n",
    "type_of_school = [\"District\", \"District\", \"Charter\", \"District\",\"Charter\"]"
   ]
  },
  {
   "cell_type": "code",
   "execution_count": 46,
   "id": "34f77bb3",
   "metadata": {},
   "outputs": [
    {
     "data": {
      "text/plain": [
       "{'Figueroa High School',\n",
       " 'Griffin High School',\n",
       " 'Hernandez High School',\n",
       " 'Huang High School',\n",
       " 'Shelton High School'}"
      ]
     },
     "execution_count": 46,
     "metadata": {},
     "output_type": "execute_result"
    }
   ],
   "source": [
    "# Initialize a new DataFrame.\n",
    "schools_df = pd.DataFrame()\n",
    "({\"Huang High School\", \"Figueroa High School\", \"Shelton High School\", \"Hernandez High School\", \"Griffin High School\"})"
   ]
  },
  {
   "cell_type": "code",
   "execution_count": null,
   "id": "d342dac3",
   "metadata": {},
   "outputs": [],
   "source": [
    "# Add the list to a new DataFrame.\n",
    "schools_df['school ID'] = school_id\n",
    "\n",
    "# Print the DataFrame.\n",
    "schools_df"
   ]
  },
  {
   "cell_type": "code",
   "execution_count": null,
   "id": "a8e839ca",
   "metadata": {
    "scrolled": true
   },
   "outputs": [],
   "source": [
    "# Create a dictionary of informaiton on high schools.\n",
    "high_schools_dict = {'School ID': schools_id, 'school_name':school_name, 'type':type_of_school}"
   ]
  },
  {
   "cell_type": "code",
   "execution_count": 54,
   "id": "58a5ccec",
   "metadata": {},
   "outputs": [
    {
     "ename": "SyntaxError",
     "evalue": "invalid syntax (2920893140.py, line 2)",
     "output_type": "error",
     "traceback": [
      "\u001b[0;36m  File \u001b[0;32m\"/var/folders/cx/rdn55qmd7lz5548qzhln_z300000gn/T/ipykernel_5394/2920893140.py\"\u001b[0;36m, line \u001b[0;32m2\u001b[0m\n\u001b[0;31m    high_school_dict = pd.DataFrame({\"School ID\": [0, 1, 2, 3, 4], \"School_name\": \"Huang High School\", \"Figueroa High School\", \"Shelton High School\", \"Hernandez High School\", \"Griffin High School\", \"Type: \"District\", \"District\", \"Charter\", \"District\",\"Charter\"})\u001b[0m\n\u001b[0m                                                                                                                             ^\u001b[0m\n\u001b[0;31mSyntaxError\u001b[0m\u001b[0;31m:\u001b[0m invalid syntax\n"
     ]
    }
   ],
   "source": [
    "# Initialize High School Dict to a DataFrame\n",
    "high_school_dict = pd.DataFrame({\"School ID\": [0, 1, 2, 3, 4], \"School_name\": \"Huang High School\", \"Figueroa High School\", \"Shelton High School\", \"Hernandez High School\", \"Griffin High School\", \"Type: \"District\", \"District\", \"Charter\", \"District\",\"Charter\"})\n",
    "                                 "
   ]
  },
  {
   "cell_type": "code",
   "execution_count": null,
   "id": "acfd8ae1",
   "metadata": {},
   "outputs": [],
   "source": []
  }
 ],
 "metadata": {
  "kernelspec": {
   "display_name": "PythonData",
   "language": "python",
   "name": "pythondata"
  },
  "language_info": {
   "codemirror_mode": {
    "name": "ipython",
    "version": 3
   },
   "file_extension": ".py",
   "mimetype": "text/x-python",
   "name": "python",
   "nbconvert_exporter": "python",
   "pygments_lexer": "ipython3",
   "version": "3.7.13"
  }
 },
 "nbformat": 4,
 "nbformat_minor": 5
}
