{
 "cells": [
  {
   "cell_type": "code",
   "execution_count": 1,
   "id": "483b9299",
   "metadata": {},
   "outputs": [],
   "source": [
    "# List of High schools\n",
    "high_schools = [\"Hernandez High School\", \"Figueroa High School\", \"Wilson High School\", \"Wright High School\"]"
   ]
  },
  {
   "cell_type": "code",
   "execution_count": null,
   "id": "344c894a",
   "metadata": {},
   "outputs": [],
   "source": [
    "for school in high_schools:"
   ]
  },
  {
   "cell_type": "code",
   "execution_count": 5,
   "id": "e76cd156",
   "metadata": {},
   "outputs": [],
   "source": [
    "# A dictionary of high schools and the type of school.\n",
    "high_school_types = [{\"High school\": \"Griffin\", \"Type\":\"District\"}, {\"High School\": \"Figueroa\", \"Type\": \"District\"}, {\"High School\": \"Wilson\", \"Type\": \"Charter\"}, {\"High School\": \"Wright\", \"Type\": \"Charter\"}]"
   ]
  },
  {
   "cell_type": "code",
   "execution_count": null,
   "id": "f5e4ae1c",
   "metadata": {},
   "outputs": [],
   "source": []
  }
 ],
 "metadata": {
  "kernelspec": {
   "display_name": "Python 3 (ipykernel)",
   "language": "python",
   "name": "python3"
  },
  "language_info": {
   "codemirror_mode": {
    "name": "ipython",
    "version": 3
   },
   "file_extension": ".py",
   "mimetype": "text/x-python",
   "name": "python",
   "nbconvert_exporter": "python",
   "pygments_lexer": "ipython3",
   "version": "3.9.12"
  }
 },
 "nbformat": 4,
 "nbformat_minor": 5
}
